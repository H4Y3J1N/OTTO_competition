{
 "cells": [
  {
   "cell_type": "code",
   "execution_count": null,
   "metadata": {},
   "outputs": [],
   "source": [
    "import pandas as pd"
   ]
  },
  {
   "attachments": {},
   "cell_type": "markdown",
   "metadata": {},
   "source": [
    "## Filter dataset"
   ]
  },
  {
   "cell_type": "code",
   "execution_count": null,
   "metadata": {},
   "outputs": [],
   "source": [
    "data = pd.read_parquet('./data/train.parquet')\n",
    "edge_counts = data.groupby(['session', 'aid']).size().reset_index(name='count')\n",
    "node_edge_counts = edge_counts.groupby('session')['count'].sum().reset_index(name='total_edges')\n",
    "\n",
    "sorted_node_edge_counts = node_edge_counts.sort_values('total_edges', ascending=False)\n",
    "threshold = int(0.5 * len(sorted_node_edge_counts))\n",
    "selected_nodes = sorted_node_edge_counts.iloc[:threshold]['session'].tolist()\n",
    "filtered_data = data[data['session'].isin(selected_nodes)]\n",
    "\n",
    "filtered_data.to_parquet('./data/train_filtered.parquet')"
   ]
  },
  {
   "attachments": {},
   "cell_type": "markdown",
   "metadata": {},
   "source": [
    "## Filter aid features"
   ]
  },
  {
   "cell_type": "code",
   "execution_count": null,
   "metadata": {},
   "outputs": [],
   "source": [
    "filtered_data = pd.read_parquet('./data/train_filtered.parquet')\n",
    "aid_features = pd.read_parquet(\"./data/aid_features.parquet\")\n",
    "\n",
    "unique_filtered_aids = filtered_data['aid'].unique().tolist()\n",
    "filtered_aid_features = aid_features[aid_features['aid'].isin(unique_filtered_aids)]\n",
    "\n",
    "filtered_aid_features.to_parquet('./data/filtered_aid_features.parquet')"
   ]
  }
 ],
 "metadata": {
  "language_info": {
   "name": "python"
  },
  "orig_nbformat": 4
 },
 "nbformat": 4,
 "nbformat_minor": 2
}
