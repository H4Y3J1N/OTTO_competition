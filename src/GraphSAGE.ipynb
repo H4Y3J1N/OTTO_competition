{
 "cells": [
  {
   "cell_type": "code",
   "execution_count": 1,
   "metadata": {},
   "outputs": [
    {
     "name": "stderr",
     "output_type": "stream",
     "text": [
      "c:\\Users\\wikid\\AppData\\Local\\Programs\\Python\\Python310\\lib\\site-packages\\tqdm\\auto.py:22: TqdmWarning: IProgress not found. Please update jupyter and ipywidgets. See https://ipywidgets.readthedocs.io/en/stable/user_install.html\n",
      "  from .autonotebook import tqdm as notebook_tqdm\n"
     ]
    },
    {
     "name": "stdout",
     "output_type": "stream",
     "text": [
      "cpu\n"
     ]
    }
   ],
   "source": [
    "import numpy as np\n",
    "import gc\n",
    "import pandas as pd\n",
    "import torch\n",
    "from torch import nn\n",
    "from torch_geometric.nn import GCNConv, SAGEConv, GAE\n",
    "from torch_geometric.data import Data\n",
    "from tqdm import tqdm\n",
    "import polars as pl\n",
    "from collections import defaultdict\n",
    "from sklearn.preprocessing import StandardScaler\n",
    "import os\n",
    "import sys\n",
    "sys.path.append('../models')\n",
    "from utils import *\n",
    "from models import *\n",
    "\n",
    "\n",
    "device = 'cuda' if torch.cuda.is_available() else 'cpu'\n",
    "print(device)"
   ]
  },
  {
   "cell_type": "code",
   "execution_count": 4,
   "metadata": {},
   "outputs": [],
   "source": [
    "# use features extracted by Node2Vec technique that uses Biase Random Walk to extract node embeddings\n",
    "node2vec_embeddings  = np.load(\"../output/node2vec_embeddings.npy\")"
   ]
  },
  {
   "cell_type": "code",
   "execution_count": 5,
   "metadata": {},
   "outputs": [
    {
     "data": {
      "text/plain": [
       "array([[ 0.2377169 ,  0.09706575, -0.33888143, ..., -0.41141638,\n",
       "        -0.02868662,  0.05329121],\n",
       "       [ 0.07449519,  0.31996906,  0.59136367, ...,  0.41820285,\n",
       "         0.07786004,  0.16922267],\n",
       "       [-0.3861353 , -0.2294153 ,  0.23723997, ..., -0.5580095 ,\n",
       "        -0.12203991, -0.0035588 ],\n",
       "       ...,\n",
       "       [-0.22501837,  0.3269598 ,  0.7061448 , ...,  0.6103053 ,\n",
       "        -0.50257504, -0.09074241],\n",
       "       [-1.0086778 , -0.24329227, -0.24240543, ...,  0.12725711,\n",
       "        -0.18508181, -0.45989668],\n",
       "       [-0.16124317, -0.01643375,  0.10715707, ...,  0.11199374,\n",
       "        -0.02729834, -0.32067934]], dtype=float32)"
      ]
     },
     "execution_count": 5,
     "metadata": {},
     "output_type": "execute_result"
    }
   ],
   "source": [
    "node2vec_embeddings"
   ]
  },
  {
   "cell_type": "code",
   "execution_count": null,
   "metadata": {},
   "outputs": [],
   "source": []
  },
  {
   "cell_type": "code",
   "execution_count": null,
   "metadata": {},
   "outputs": [],
   "source": []
  },
  {
   "cell_type": "code",
   "execution_count": null,
   "metadata": {},
   "outputs": [],
   "source": []
  },
  {
   "cell_type": "code",
   "execution_count": null,
   "metadata": {},
   "outputs": [],
   "source": []
  },
  {
   "cell_type": "code",
   "execution_count": null,
   "metadata": {},
   "outputs": [],
   "source": []
  }
 ],
 "metadata": {
  "kernelspec": {
   "display_name": "Python 3",
   "language": "python",
   "name": "python3"
  },
  "language_info": {
   "codemirror_mode": {
    "name": "ipython",
    "version": 3
   },
   "file_extension": ".py",
   "mimetype": "text/x-python",
   "name": "python",
   "nbconvert_exporter": "python",
   "pygments_lexer": "ipython3",
   "version": "3.10.5"
  },
  "orig_nbformat": 4
 },
 "nbformat": 4,
 "nbformat_minor": 2
}
