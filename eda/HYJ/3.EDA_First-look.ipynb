{
 "cells": [
  {
   "cell_type": "code",
   "execution_count": 3,
   "id": "f1dce919",
   "metadata": {},
   "outputs": [],
   "source": [
    "import numpy as np\n",
    "import pandas as pd\n",
    "from tqdm import tqdm\n",
    "from pathlib import Path\n",
    "path = \"../../data/\""
   ]
  },
  {
   "cell_type": "code",
   "execution_count": 5,
   "id": "ac870657",
   "metadata": {},
   "outputs": [],
   "source": [
    "train = pd.read_parquet(path+\"train.parquet\")\n",
    "test = pd.read_parquet(path+\"test.parquet\")"
   ]
  },
  {
   "cell_type": "code",
   "execution_count": 10,
   "id": "3a8d4146",
   "metadata": {},
   "outputs": [
    {
     "data": {
      "text/plain": [
       "((10285561, 4), (928115, 4))"
      ]
     },
     "execution_count": 10,
     "metadata": {},
     "output_type": "execute_result"
    }
   ],
   "source": [
    "# shape\n",
    "train.shape, test.shape"
   ]
  },
  {
   "cell_type": "code",
   "execution_count": 15,
   "id": "51941466",
   "metadata": {},
   "outputs": [
    {
     "data": {
      "text/plain": [
       "(200000, 200000)"
      ]
     },
     "execution_count": 15,
     "metadata": {},
     "output_type": "execute_result"
    }
   ],
   "source": [
    "# unique 한 세션 개수\n",
    "train.session.unique().shape[0], test.session.unique().shape[0]"
   ]
  },
  {
   "cell_type": "code",
   "execution_count": null,
   "id": "28d0a077",
   "metadata": {},
   "outputs": [],
   "source": [
    "# "
   ]
  }
 ],
 "metadata": {
  "kernelspec": {
   "display_name": "Python 3.9.10",
   "language": "python",
   "name": "python3"
  },
  "language_info": {
   "codemirror_mode": {
    "name": "ipython",
    "version": 3
   },
   "file_extension": ".py",
   "mimetype": "text/x-python",
   "name": "python",
   "nbconvert_exporter": "python",
   "pygments_lexer": "ipython3",
   "version": "3.9.10"
  },
  "vscode": {
   "interpreter": {
    "hash": "26e9295aa3edd5d89dea439b5443781bb65434b4bf0c4b562c7bcca31764744c"
   }
  }
 },
 "nbformat": 4,
 "nbformat_minor": 5
}
