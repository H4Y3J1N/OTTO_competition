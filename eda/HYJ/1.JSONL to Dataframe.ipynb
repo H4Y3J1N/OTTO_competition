{
 "cells": [
  {
   "cell_type": "code",
   "execution_count": 1,
   "id": "9068175c",
   "metadata": {},
   "outputs": [],
   "source": [
    "import numpy as np\n",
    "import pandas as pd\n",
    "from tqdm import tqdm\n",
    "from pathlib import Path\n",
    "data_path = Path('C:/Users/wikid/Downloads/')"
   ]
  },
  {
   "cell_type": "code",
   "execution_count": 2,
   "id": "8bb57c3a",
   "metadata": {},
   "outputs": [],
   "source": [
    "def jsonl_to_dataframe(chunks):\n",
    "    df = pd.DataFrame()\n",
    "    \n",
    "    for e, chunk in enumerate(chunks):\n",
    "        event_dict = {\n",
    "            'session': [],\n",
    "            'aid': [],\n",
    "            'ts': [],\n",
    "            'type': [],\n",
    "        }\n",
    "        if e < 129:\n",
    "            # df = pd.concat([df, chunk])\n",
    "            for session, events in zip(chunk['session'].tolist(), chunk['events'].tolist()):\n",
    "                for event in events:\n",
    "                    event_dict['session'].append(session)\n",
    "                    event_dict['aid'].append(event['aid'])\n",
    "                    event_dict['ts'].append(event['ts'])\n",
    "                    event_dict['type'].append(event['type'])\n",
    "            chunk_session = pd.DataFrame(event_dict)\n",
    "            df = pd.concat([df, chunk_session])\n",
    "        else:\n",
    "            break\n",
    "\n",
    "    df = df.reset_index(drop=True)\n",
    "    \n",
    "    return df"
   ]
  },
  {
   "cell_type": "code",
   "execution_count": 3,
   "id": "a16bb5d9",
   "metadata": {},
   "outputs": [],
   "source": [
    "train_chunks = pd.read_json(data_path / 'train.jsonl', lines=True, chunksize=100_000)\n",
    "test_chunks = pd.read_json(data_path / 'test.jsonl', lines=True, chunksize=100_000)"
   ]
  },
  {
   "cell_type": "code",
   "execution_count": null,
   "id": "78a69611",
   "metadata": {},
   "outputs": [],
   "source": [
    "train_df = jsonl_to_dataframe(train_chunks)\n",
    "test_df = jsonl_to_dataframe(test_chunks)"
   ]
  },
  {
   "cell_type": "code",
   "execution_count": 20,
   "id": "4f31587f",
   "metadata": {},
   "outputs": [],
   "source": [
    "train_df.to_parquet('train.parquet', index=False)\n",
    "test_df.to_parquet('test.parquet', index=False)"
   ]
  },
  {
   "cell_type": "code",
   "execution_count": null,
   "id": "a07f8b6c",
   "metadata": {},
   "outputs": [],
   "source": [
    "display(train_df)\n",
    "display(test_df)"
   ]
  }
 ],
 "metadata": {
  "kernelspec": {
   "display_name": "Python 3.9.10",
   "language": "python",
   "name": "python3"
  },
  "language_info": {
   "codemirror_mode": {
    "name": "ipython",
    "version": 3
   },
   "file_extension": ".py",
   "mimetype": "text/x-python",
   "name": "python",
   "nbconvert_exporter": "python",
   "pygments_lexer": "ipython3",
   "version": "3.9.10"
  },
  "vscode": {
   "interpreter": {
    "hash": "26e9295aa3edd5d89dea439b5443781bb65434b4bf0c4b562c7bcca31764744c"
   }
  }
 },
 "nbformat": 4,
 "nbformat_minor": 5
}
